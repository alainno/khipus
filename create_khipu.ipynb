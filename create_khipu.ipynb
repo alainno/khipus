{
 "cells": [
  {
   "cell_type": "code",
   "execution_count": 1,
   "metadata": {},
   "outputs": [],
   "source": [
    "from draw import drawKhipu\n",
    "import matplotlib.pyplot as plt\n",
    "%matplotlib inline"
   ]
  },
  {
   "cell_type": "code",
   "execution_count": 5,
   "metadata": {},
   "outputs": [
    {
     "name": "stdout",
     "output_type": "stream",
     "text": [
      "{'KHIPU_ID': 1000195, 'PCORD_ID': 1000193, 'PCORD_LENGTH': Decimal('23.500'), 'BEGINNING': 'B', 'TERMINATION': 'B', 'TWIST': 'U'}\n",
      "total cluster:  1\n",
      "{'CLUSTER_ID': 1005654, 'START_POSITION': Decimal('21.000'), 'END_POSITION': Decimal('22.000'), 'NUM_CORDS': 3}\n",
      "{'CORD_ID': 3017356, 'CORD_LENGTH': Decimal('45.000'), 'TWIST': 'U', 'TERMINATION': 'K'}\n",
      "{'CORD_ID': 3017357, 'CORD_LENGTH': Decimal('50.000'), 'TWIST': 'U', 'TERMINATION': 'U'}\n",
      "{'KNOT_ID': 1032731, 'NUM_TURNS': 3}\n",
      "{'KNOT_ID': 1032732, 'NUM_TURNS': 0}\n",
      "{'CORD_ID': 3017358, 'CORD_LENGTH': Decimal('33.000'), 'TWIST': 'U', 'TERMINATION': 'K'}\n",
      "{'KNOT_ID': 1032733, 'NUM_TURNS': 0}\n"
     ]
    }
   ],
   "source": [
    "drawKhipu(\"1000195\")\n",
    "\n",
    "#image = drawKhipu(\"1000192\")\n",
    "\n",
    "#plt.figure(figsize=(10,10))\n",
    "#plt.imshow(image)\n",
    "#plt.show()"
   ]
  },
  {
   "cell_type": "code",
   "execution_count": null,
   "metadata": {},
   "outputs": [],
   "source": []
  },
  {
   "cell_type": "code",
   "execution_count": null,
   "metadata": {},
   "outputs": [],
   "source": []
  }
 ],
 "metadata": {
  "kernelspec": {
   "display_name": "Python 3",
   "language": "python",
   "name": "python3"
  },
  "language_info": {
   "codemirror_mode": {
    "name": "ipython",
    "version": 3
   },
   "file_extension": ".py",
   "mimetype": "text/x-python",
   "name": "python",
   "nbconvert_exporter": "python",
   "pygments_lexer": "ipython3",
   "version": "3.8.1"
  }
 },
 "nbformat": 4,
 "nbformat_minor": 4
}
